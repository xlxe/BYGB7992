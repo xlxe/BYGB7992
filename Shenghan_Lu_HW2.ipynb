{
 "cells": [
  {
   "cell_type": "code",
   "execution_count": null,
   "metadata": {},
   "outputs": [],
   "source": [
    "from google.colab import files\n",
    "uploaded = files.upload()"
   ]
  },
  {
   "cell_type": "code",
   "execution_count": 8,
   "metadata": {
    "id": "bFw_oYpmrlQj"
   },
   "outputs": [],
   "source": [
    "#Pandas is the Python package for data.frames\n",
    "#Seaborn is for data visualization\n",
    "import pandas as pd\n",
    "import seaborn as sns"
   ]
  },
  {
   "cell_type": "code",
   "execution_count": 9,
   "metadata": {
    "colab": {
     "base_uri": "https://localhost:8080/"
    },
    "id": "DCJ6s1GNsEwr",
    "outputId": "dac63e22-6449-4307-c620-2cec0a4b3d7a"
   },
   "outputs": [
    {
     "name": "stdout",
     "output_type": "stream",
     "text": [
      "                        name mfr type  calories  protein  fat  sodium  fiber  \\\n",
      "0                  100%_Bran   N    C        70        4    1     130   10.0   \n",
      "1          100%_Natural_Bran   Q    C       120        3    5      15    2.0   \n",
      "2                   All-Bran   K    C        70        4    1     260    9.0   \n",
      "3  All-Bran_with_Extra_Fiber   K    C        50        4    0     140   14.0   \n",
      "4             Almond_Delight   R    C       110        2    2     200    1.0   \n",
      "5    Apple_Cinnamon_Cheerios   G    C       110        2    2     180    1.5   \n",
      "6                Apple_Jacks   K    C       110        2    0     125    1.0   \n",
      "7                    Basic_4   G    C       130        3    2     210    2.0   \n",
      "8                  Bran_Chex   R  NaN        90        2    1     200    4.0   \n",
      "9                Bran_Flakes   P    C        90        3    0     210    5.0   \n",
      "\n",
      "   carbo  sugars  potass  vitamins  shelf  weight  cups     rating  \n",
      "0    5.0     6.0   280.0        25      3    1.00  0.33  68.402973  \n",
      "1    8.0     8.0   135.0         0      3    1.00  1.00  33.983679  \n",
      "2    7.0     5.0   320.0        25      3    1.00  0.33  59.425505  \n",
      "3    8.0     0.0   330.0        25      3    1.00  0.50  93.704912  \n",
      "4   14.0     8.0     NaN        25      3    1.00  0.75  34.384843  \n",
      "5   10.5    10.0    70.0        25      1    1.00  0.75  29.509541  \n",
      "6   11.0    14.0    30.0        25      2    1.00  1.00  33.174094  \n",
      "7   18.0     8.0   100.0        25      3    1.33  0.75  37.038562  \n",
      "8   15.0     6.0   125.0        25      1    1.00  0.67  49.120253  \n",
      "9   13.0     5.0   190.0        25      3    1.00  0.67  53.313813  \n",
      "['name' 'mfr' 'type' 'calories' 'protein' 'fat' 'sodium' 'fiber' 'carbo'\n",
      " 'sugars' 'potass' 'vitamins' 'shelf' 'weight' 'cups' 'rating']\n",
      "(77, 16)\n"
     ]
    }
   ],
   "source": [
    "df=pd.read_csv('HW2_Cereals.csv')\n",
    "print(df.head(10))\n",
    "print(df.columns.values)\n",
    "print(df.shape)"
   ]
  },
  {
   "cell_type": "code",
   "execution_count": 14,
   "metadata": {
    "colab": {
     "base_uri": "https://localhost:8080/",
     "height": 296
    },
    "id": "rwk4CYfis0Dh",
    "outputId": "31748cce-5dd4-4605-c129-09a87ccf0938"
   },
   "outputs": [
    {
     "data": {
      "text/plain": [
       "<AxesSubplot:title={'center':'rating'}, xlabel='shelf'>"
      ]
     },
     "execution_count": 14,
     "metadata": {},
     "output_type": "execute_result"
    },
    {
     "data": {
      "image/png": "[encoded data removed]",
      "text/plain": [
       "<Figure size 432x288 with 1 Axes>"
      ]
     },
     "metadata": {
      "needs_background": "light"
     },
     "output_type": "display_data"
    }
   ],
   "source": [
    "x='shelf'\n",
    "y='rating'\n",
    "df4sns = df\n",
    "df4sns.boxplot(column=y,by=x)"
   ]
  },
  {
   "cell_type": "code",
   "execution_count": 11,
   "metadata": {
    "colab": {
     "base_uri": "https://localhost:8080/",
     "height": 319
    },
    "id": "DYoggRgtucTp",
    "outputId": "6c469b2f-48fa-41a7-86ab-cca875249b9a"
   },
   "outputs": [
    {
     "data": {
      "text/plain": [
       "<AxesSubplot:>"
      ]
     },
     "execution_count": 11,
     "metadata": {},
     "output_type": "execute_result"
    },
    {
     "data": {
      "image/png": "[encoded data removed]",
      "text/plain": [
       "<Figure size 432x288 with 2 Axes>"
      ]
     },
     "metadata": {
      "needs_background": "light"
     },
     "output_type": "display_data"
    }
   ],
   "source": [
    "df4heatmaps = df\n",
    "corr = df4heatmaps.corr()\n",
    "\n",
    "# print(corr)\n",
    "\n",
    "sns.heatmap(corr, xticklabels=corr.columns,yticklabels=corr.columns)"
   ]
  },
  {
   "cell_type": "code",
   "execution_count": null,
   "metadata": {},
   "outputs": [],
   "source": []
  },
  {
   "cell_type": "code",
   "execution_count": null,
   "metadata": {},
   "outputs": [],
   "source": []
  }
 ],
 "metadata": {
  "colab": {
   "collapsed_sections": [],
   "name": "Shenghan Lu HW1 code&plot ",
   "provenance": []
  },
  "kernelspec": {
   "display_name": "Python 3",
   "language": "python",
   "name": "python3"
  },
  "language_info": {
   "codemirror_mode": {
    "name": "ipython",
    "version": 3
   },
   "file_extension": ".py",
   "mimetype": "text/x-python",
   "name": "python",
   "nbconvert_exporter": "python",
   "pygments_lexer": "ipython3",
   "version": "3.8.8"
  }
 },
 "nbformat": 4,
 "nbformat_minor": 1
}
